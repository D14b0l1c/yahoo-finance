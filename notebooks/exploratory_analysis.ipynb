{
  "cells": [
    {
      "cell_type": "markdown",
      "metadata": {},
      "source": [
        "# Exploratory Analysis\n",
        "This notebook visualizes results from all implemented ML models."
      ]
    },
    {
      "cell_type": "code",
      "execution_count": null,
      "metadata": {},
      "outputs": [],
      "source": [
        "# Visualize Linear Regression results\n",
        "model = joblib.load('../models/linear_regression.pkl')\n",
        "df = pd.read_csv('../data/tech_stocks_data.csv')\n",
        "df = df.dropna(subset=['PE Ratio', 'Return on Equity', 'Beta', 'EPS', 'Current Price'])\n",
        "X = df[['PE Ratio', 'Return on Equity', 'Beta', 'EPS']]\n",
        "df['Predicted Price'] = model.predict(X)\n",
        "df[['Ticker', 'Current Price', 'Predicted Price']].head(10)"
      ]
    },
    {
      "cell_type": "code",
      "execution_count": null,
      "metadata": {},
      "outputs": [],
      "source": [
        "# Visualize Random Forest results\n",
        "model = joblib.load('../models/random_forest_regressor.pkl')\n",
        "df = pd.read_csv('../data/tech_stocks_data.csv')\n",
        "df = df.dropna(subset=['PE Ratio', 'Return on Equity', 'Beta', 'EPS', 'Current Price'])\n",
        "X = df[['PE Ratio', 'Return on Equity', 'Beta', 'EPS']]\n",
        "df['Predicted Price'] = model.predict(X)\n",
        "df[['Ticker', 'Current Price', 'Predicted Price']].head(10)"
      ]
    },
    {
      "cell_type": "code",
      "execution_count": null,
      "metadata": {},
      "outputs": [],
      "source": [
        "# Visualize XGBoost results\n",
        "model = joblib.load('../models/xgboost_regressor.pkl')\n",
        "df = pd.read_csv('../data/tech_stocks_data.csv')\n",
        "df = df.dropna(subset=['PE Ratio', 'Return on Equity', 'Beta', 'EPS', 'Current Price'])\n",
        "X = df[['PE Ratio', 'Return on Equity', 'Beta', 'EPS']]\n",
        "df['Predicted Price'] = model.predict(X)\n",
        "df[['Ticker', 'Current Price', 'Predicted Price']].head(10)"
      ]
    },
    {
      "cell_type": "code",
      "execution_count": null,
      "metadata": {},
      "outputs": [],
      "source": [
        "# Visualize ARIMA results\n",
        "model = joblib.load('../models/arima_forecast.pkl')\n",
        "forecast = model.forecast(steps=5)\n",
        "forecast"
      ]
    },
    {
      "cell_type": "code",
      "execution_count": null,
      "metadata": {},
      "outputs": [],
      "source": [
        "# Visualize Logistic Regression results\n",
        "model = joblib.load('../models/logistic_regression.pkl')\n",
        "df = pd.read_csv('../data/tech_stocks_data.csv')\n",
        "df['Price Change'] = df['Current Price'].diff().shift(-1)\n",
        "df['Movement'] = df['Price Change'].apply(lambda x: 1 if x > 0 else 0)\n",
        "df = df.dropna(subset=['PE Ratio', 'Return on Equity', 'Beta', 'EPS', 'Movement'])\n",
        "X = df[['PE Ratio', 'Return on Equity', 'Beta', 'EPS']]\n",
        "df['Predicted Movement'] = model.predict(X)\n",
        "df[['Ticker', 'Movement', 'Predicted Movement']].head(10)"
      ]
    },
    {
      "cell_type": "code",
      "execution_count": null,
      "metadata": {},
      "outputs": [],
      "source": [
        "# Visualize LSTM results\n",
        "from keras.models import load_model\n",
        "import yfinance as yf\n",
        "from sklearn.preprocessing import MinMaxScaler\n",
        "model = load_model('../models/lstm_forecast.keras')\n",
        "df = yf.download('AAPL', period='6mo', interval='1d')[['Close']].dropna()\n",
        "scaler = MinMaxScaler()\n",
        "scaled = scaler.fit_transform(df)\n",
        "input_seq = scaled[-10:].reshape((1, 10, 1))\n",
        "next_day_scaled = model.predict(input_seq, verbose=0)\n",
        "next_day_price = scaler.inverse_transform(next_day_scaled)[0][0]\n",
        "print(f\"Predicted next day's closing price: ${next_day_price:.2f}\")"
      ]
    },
    {
      "cell_type": "code",
      "execution_count": null,
      "metadata": {},
      "outputs": [],
      "source": [
        "# Visualize k-Means Clustering results\n",
        "model = joblib.load('../models/kmeans.pkl')\n",
        "df = pd.read_csv('../data/tech_stocks_data.csv')\n",
        "df = df.dropna(subset=['PE Ratio', 'Return on Equity', 'Beta', 'Dividend Yield'])\n",
        "from sklearn.preprocessing import StandardScaler\n",
        "import matplotlib.pyplot as plt\n",
        "features = df[['PE Ratio', 'Return on Equity', 'Beta', 'Dividend Yield']]\n",
        "scaler = StandardScaler()\n",
        "X_scaled = scaler.fit_transform(features)\n",
        "df['Cluster'] = model.predict(X_scaled)\n",
        "plt.figure(figsize=(10,6))\n",
        "scatter = plt.scatter(df['PE Ratio'], df['Return on Equity'], c=df['Cluster'], cmap='viridis', s=50)\n",
        "plt.title('k-Means Clustering of Stocks')\n",
        "plt.xlabel('PE Ratio')\n",
        "plt.ylabel('Return on Equity')\n",
        "plt.colorbar(scatter, label='Cluster')\n",
        "plt.grid(True)\n",
        "plt.tight_layout()\n",
        "plt.show()"
      ]
    }
  ],
  "metadata": {
    "kernelspec": {
      "display_name": "base",
      "language": "python",
      "name": "python3"
    },
    "language_info": {
      "name": "python",
      "version": "3.12.7"
    }
  },
  "nbformat": 4,
  "nbformat_minor": 2
}
