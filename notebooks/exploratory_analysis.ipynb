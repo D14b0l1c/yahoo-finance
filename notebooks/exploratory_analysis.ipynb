{
  "cells": [
    {
      "cell_type": "markdown",
      "metadata": {},
      "source": [
        "# \ud83d\udcca Exploratory Analysis\n",
        "This notebook explores the stock data pulled from Yahoo Finance and used in the Linear Regression model."
      ]
    },
    {
      "cell_type": "code",
      "execution_count": null,
      "metadata": {},
      "outputs": [],
      "source": [
        "import pandas as pd\n",
        "df = pd.read_csv('../data/tech_stocks_data.csv')\n",
        "df.head()"
      ]
    },
    {
      "cell_type": "code",
      "execution_count": null,
      "metadata": {},
      "outputs": [],
      "source": [
        "# \ud83d\udd0d Load and inspect the linear regression model\n",
        "import joblib\n",
        "model = joblib.load('../models/linear_regression.pkl')\n",
        "print('Coefficients:', model.coef_)\n",
        "print('Intercept:', model.intercept_)"
      ]
    },
    {
      "cell_type": "code",
      "execution_count": null,
      "metadata": {},
      "outputs": [],
      "source": [
        "# \ud83d\udd0d Visualize Linear Regression predictions\n",
        "import joblib\n",
        "import pandas as pd\n",
        "model = joblib.load('../models/linear_regression.pkl')\n",
        "df = pd.read_csv('../data/tech_stocks_data.csv')\n",
        "df = df.dropna(subset=[\"PE Ratio\", \"Return on Equity\", \"Beta\", \"EPS\", \"Current Price\"])\n",
        "X = df[[\"PE Ratio\", \"Return on Equity\", \"Beta\", \"EPS\"]]\n",
        "y_pred = model.predict(X)\n",
        "df[\"Predicted Price\"] = y_pred\n",
        "df[[\"Ticker\", \"Current Price\", \"Predicted Price\"]].head(10)"
      ]
    }
  ],
  "metadata": {
    "kernelspec": {
      "display_name": "Python 3",
      "language": "python",
      "name": "python3"
    },
    "language_info": {
      "name": "python",
      "version": "3.8"
    }
  },
  "nbformat": 4,
  "nbformat_minor": 2
}