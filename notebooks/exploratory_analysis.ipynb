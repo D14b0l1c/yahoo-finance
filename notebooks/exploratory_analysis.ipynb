{
  "cells": [
    {
      "cell_type": "markdown",
      "metadata": {},
      "source": [
        "# Exploratory Analysis\n",
        "This notebook explores stock data and compares predictions from trained ML models."
      ]
    },
    {
      "cell_type": "code",
      "execution_count": null,
      "metadata": {},
      "outputs": [],
      "source": [
        "# Visualize Linear Regression predictions\n",
        "import joblib\n",
        "import pandas as pd\n",
        "model = joblib.load('../models/linear_regression.pkl')\n",
        "df = pd.read_csv('../data/tech_stocks_data.csv')\n",
        "df = df.dropna(subset=[\"PE Ratio\", \"Return on Equity\", \"Beta\", \"EPS\", \"Current Price\"])\n",
        "X = df[[\"PE Ratio\", \"Return on Equity\", \"Beta\", \"EPS\"]]\n",
        "df[\"Predicted Price\"] = model.predict(X)\n",
        "df[[\"Ticker\", \"Current Price\", \"Predicted Price\"]].head(10)"
      ]
    },
    {
      "cell_type": "code",
      "execution_count": null,
      "metadata": {},
      "outputs": [],
      "source": [
        "# Visualize Random Forest predictions\n",
        "model = joblib.load('../models/random_forest_regressor.pkl')\n",
        "df = pd.read_csv('../data/tech_stocks_data.csv')\n",
        "df = df.dropna(subset=[\"PE Ratio\", \"Return on Equity\", \"Beta\", \"EPS\", \"Current Price\"])\n",
        "X = df[[\"PE Ratio\", \"Return on Equity\", \"Beta\", \"EPS\"]]\n",
        "df[\"Predicted Price\"] = model.predict(X)\n",
        "df[[\"Ticker\", \"Current Price\", \"Predicted Price\"]].head(10)"
      ]
    },
    {
      "cell_type": "code",
      "execution_count": null,
      "metadata": {},
      "outputs": [],
      "source": [
        "# Visualize XGBoost predictions\n",
        "model = joblib.load('../models/xgboost_regressor.pkl')\n",
        "df = pd.read_csv('../data/tech_stocks_data.csv')\n",
        "df = df.dropna(subset=[\"PE Ratio\", \"Return on Equity\", \"Beta\", \"EPS\", \"Current Price\"])\n",
        "X = df[[\"PE Ratio\", \"Return on Equity\", \"Beta\", \"EPS\"]]\n",
        "df[\"Predicted Price\"] = model.predict(X)\n",
        "df[[\"Ticker\", \"Current Price\", \"Predicted Price\"]].head(10)"
      ]
    },
    {
      "cell_type": "code",
      "execution_count": null,
      "metadata": {},
      "outputs": [],
      "source": [
        "# Visualize ARIMA forecast\n",
        "import joblib\n",
        "model_fit = joblib.load('../models/arima_forecast.pkl')\n",
        "forecast = model_fit.forecast(steps=5)\n",
        "forecast"
      ]
    }
  ],
  "metadata": {
    "kernelspec": {
      "display_name": "base",
      "language": "python",
      "name": "python3"
    },
    "language_info": {
      "name": "python",
      "version": "3.12.7"
    }
  },
  "nbformat": 4,
  "nbformat_minor": 2
}
