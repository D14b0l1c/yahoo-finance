{
  "cells": [
    {
      "cell_type": "markdown",
      "metadata": {},
      "source": [
        "# Exploratory Analysis\n",
        "This notebook explores stock data and compares predictions from multiple ML models."
      ]
    },
    {
      "cell_type": "code",
      "execution_count": null,
      "metadata": {},
      "outputs": [],
      "source": [
        "# Visualize Linear Regression predictions\n",
        "import joblib\n",
        "import pandas as pd\n",
        "model = joblib.load('../models/linear_regression.pkl')\n",
        "df = pd.read_csv('../data/tech_stocks_data.csv')\n",
        "df = df.dropna(subset=[\"PE Ratio\", \"Return on Equity\", \"Beta\", \"EPS\", \"Current Price\"])\n",
        "X = df[[\"PE Ratio\", \"Return on Equity\", \"Beta\", \"EPS\"]]\n",
        "df[\"Predicted Price\"] = model.predict(X)\n",
        "df[[\"Ticker\", \"Current Price\", \"Predicted Price\"]].head(10)"
      ]
    },
    {
      "cell_type": "code",
      "execution_count": null,
      "metadata": {},
      "outputs": [],
      "source": [
        "# Visualize Random Forest predictions\n",
        "model = joblib.load('../models/random_forest_regressor.pkl')\n",
        "df = pd.read_csv('../data/tech_stocks_data.csv')\n",
        "df = df.dropna(subset=[\"PE Ratio\", \"Return on Equity\", \"Beta\", \"EPS\", \"Current Price\"])\n",
        "X = df[[\"PE Ratio\", \"Return on Equity\", \"Beta\", \"EPS\"]]\n",
        "df[\"Predicted Price\"] = model.predict(X)\n",
        "df[[\"Ticker\", \"Current Price\", \"Predicted Price\"]].head(10)"
      ]
    },
    {
      "cell_type": "code",
      "execution_count": null,
      "metadata": {},
      "outputs": [],
      "source": [
        "# Visualize XGBoost predictions\n",
        "model = joblib.load('../models/xgboost_regressor.pkl')\n",
        "df = pd.read_csv('../data/tech_stocks_data.csv')\n",
        "df = df.dropna(subset=[\"PE Ratio\", \"Return on Equity\", \"Beta\", \"EPS\", \"Current Price\"])\n",
        "X = df[[\"PE Ratio\", \"Return on Equity\", \"Beta\", \"EPS\"]]\n",
        "df[\"Predicted Price\"] = model.predict(X)\n",
        "df[[\"Ticker\", \"Current Price\", \"Predicted Price\"]].head(10)"
      ]
    }
  ],
  "metadata": {
    "kernelspec": {
      "display_name": "Python 3",
      "language": "python",
      "name": "python3"
    },
    "language_info": {
      "name": "python",
      "version": "3.8"
    }
  },
  "nbformat": 4,
  "nbformat_minor": 2
}
